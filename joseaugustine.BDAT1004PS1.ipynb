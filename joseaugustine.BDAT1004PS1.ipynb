{
 "cells": [
  {
   "cell_type": "markdown",
   "id": "fb4ff6ca",
   "metadata": {},
   "source": [
    "Question 1\n",
    "What data type is each of the following (evaluate where necessary)?\n",
    "5 \n",
    "5.0\n",
    "5 > 1\n",
    "'5'\n",
    "5 * 2\n",
    "'5' * 2\n",
    "'5' + '2'\n",
    "5 / 2\n",
    "5 % 2\n",
    "{5, 2, 1}\n",
    "5 == 3\n",
    "Pi (the number)\n"
   ]
  },
  {
   "cell_type": "code",
   "execution_count": 2,
   "id": "8433d535",
   "metadata": {},
   "outputs": [
    {
     "name": "stdout",
     "output_type": "stream",
     "text": [
      "<class 'int'>\n",
      "<class 'float'>\n",
      "<class 'bool'>\n",
      "<class 'str'>\n",
      "<class 'int'>\n",
      "<class 'str'>\n",
      "<class 'str'>\n",
      "<class 'float'>\n",
      "<class 'int'>\n",
      "<class 'set'>\n",
      "<class 'bool'>\n",
      "<class 'float'>\n"
     ]
    }
   ],
   "source": [
    "print(type(5))\n",
    "print(type(5.0))\n",
    "print(type(5>1))\n",
    "print(type('5'))\n",
    "print(type(5*2))\n",
    "print(type('5'*2))\n",
    "print(type('5'+'2'))\n",
    "print(type(5/2))\n",
    "print(type(5%2))\n",
    "print(type({5,2,1}))\n",
    "print(type(5==3))\n",
    "\n",
    "import math\n",
    "print(type(math.pi))\n"
   ]
  },
  {
   "cell_type": "markdown",
   "id": "ee8cefab",
   "metadata": {},
   "source": [
    "Question 2\n",
    "2a.Write (and evaluate) python expressions that answer these questions:\n"
   ]
  },
  {
   "cell_type": "code",
   "execution_count": 3,
   "id": "238a85a6",
   "metadata": {},
   "outputs": [
    {
     "name": "stdout",
     "output_type": "stream",
     "text": [
      "34\n"
     ]
    }
   ],
   "source": [
    "word = 'Supercalifragilisticexpialidocious'\n",
    "length = len(word)\n",
    "print(length)\n"
   ]
  },
  {
   "cell_type": "markdown",
   "id": "2c74ac18",
   "metadata": {},
   "source": [
    "2b.Does 'Supercalifragilisticexpialidocious' contain 'ice' as a substring? \n"
   ]
  },
  {
   "cell_type": "code",
   "execution_count": 4,
   "id": "6182ddce",
   "metadata": {},
   "outputs": [
    {
     "name": "stdout",
     "output_type": "stream",
     "text": [
      "True\n"
     ]
    }
   ],
   "source": [
    "word = 'Supercalifragilisticexpialidocious'\n",
    "ice = 'ice' in word\n",
    "print(ice)\n"
   ]
  },
  {
   "cell_type": "markdown",
   "id": "b14f13f6",
   "metadata": {},
   "source": [
    "2c.Which of the following words is the longest:Supercalifragilisticexpialidocious, Honorificabilitudinitatibus, orBababadalgharaghtakamminarronnkonn?"
   ]
  },
  {
   "cell_type": "code",
   "execution_count": 5,
   "id": "f52d9475",
   "metadata": {},
   "outputs": [
    {
     "name": "stdout",
     "output_type": "stream",
     "text": [
      "The longest word is: Supercalifragilisticexpialidocious\n"
     ]
    }
   ],
   "source": [
    "words = ['Supercalifragilisticexpialidocious', 'Honorificabilitudinitatibus', 'Bababadalgharaghtakamminarronnkonn']\n",
    "longest_word = max(words, key=len)\n",
    "print(\"The longest word is:\", longest_word)\n"
   ]
  },
  {
   "cell_type": "markdown",
   "id": "0f88f62c",
   "metadata": {},
   "source": [
    "But the characters in \"Supercalifragilisticexpialidocious\" and \"Bababadalgharaghtakamminarronnkonn\" are the same(34)."
   ]
  },
  {
   "cell_type": "markdown",
   "id": "6ef330bb",
   "metadata": {},
   "source": [
    "2d.Which composer comes first in the dictionary: 'Berlioz', 'Borodin', 'Brian', \n",
    "'Bartok', 'Bellini', 'Buxtehude', 'Bernstein'. Which one comes last?"
   ]
  },
  {
   "cell_type": "code",
   "execution_count": 6,
   "id": "e3e2d83a",
   "metadata": {},
   "outputs": [
    {
     "name": "stdout",
     "output_type": "stream",
     "text": [
      "First in dictionary: Bartok\n",
      "Last in dictionary: Buxtehude\n"
     ]
    }
   ],
   "source": [
    "composer_list = ['Berlioz', 'Borodin', 'Brian', 'Bartok', 'Bellini', 'Buxtehude', 'Bernstein']\n",
    "first_in_list = min(composer_list)\n",
    "last_in_list = max(composer_list)\n",
    "print(\"First in dictionary:\", first_in_list)\n",
    "print(\"Last in dictionary:\", last_in_list)\n"
   ]
  },
  {
   "cell_type": "markdown",
   "id": "17c11bbf",
   "metadata": {},
   "source": [
    "Question 3\n",
    "\n",
    "Implement function triangleArea (a,b,c) that takes as input the lengths of the 3sides of a triangle and returns the area of the triangle. By Heron's formula, the areaof a triangle with side lengths a, b, and c is s(s - a)(s - b)(s - c) , wheres = (a + b + c) /2"
   ]
  },
  {
   "cell_type": "code",
   "execution_count": 9,
   "id": "0c05f9d4",
   "metadata": {},
   "outputs": [
    {
     "name": "stdout",
     "output_type": "stream",
     "text": [
      "Area of triangle with sides 2, 2, and 2 is: 1.7320508075688772\n"
     ]
    }
   ],
   "source": [
    "def triangleArea(a, b, c):\n",
    "    s = (a + b + c) / 2\n",
    "    area = (s * (s - a) * (s - b) * (s - c)) ** 0.5\n",
    "    return area\n",
    "\n",
    "a, b, c = 2, 2, 2\n",
    "print(f\"Area of triangle with sides {a}, {b}, and {c} is: {triangleArea(a, b, c)}\")\n"
   ]
  },
  {
   "cell_type": "markdown",
   "id": "82fdecb8",
   "metadata": {},
   "source": [
    "Question 4\n",
    "\n",
    "Write a program in python to separate odd and even integers in separate arrays. Goto the editorTest Data :Input the number of elements to be stored in the array :5 Input 5 elements in the array : element - 0 : 25 element - 1 : 47 element - 2 : 42 element - 3 : 56 element - 4 : 32 Expected Output: The Even elements are:42 56 32 The Odd elements are :25 47"
   ]
  },
  {
   "cell_type": "code",
   "execution_count": 10,
   "id": "3666310f",
   "metadata": {},
   "outputs": [
    {
     "name": "stdout",
     "output_type": "stream",
     "text": [
      "Input the number of elements to be stored in the array: 3\n",
      "element - 0 : 2\n",
      "element - 1 : -5\n",
      "element - 2 : -9\n",
      "The Even elements are: 2\n",
      "The Odd elements are: -5 -9\n"
     ]
    }
   ],
   "source": [
    "total_items = int(input(\"Input the number of elements to be stored in the array: \"))\n",
    "numbers = []\n",
    "\n",
    "for index in range(total_items):\n",
    "    value = int(input(f\"element - {index} : \"))\n",
    "    numbers.append(value)\n",
    "\n",
    "evens = [num for num in numbers if num % 2 == 0]\n",
    "odds = [num for num in numbers if num % 2 != 0]\n",
    "\n",
    "print(\"The Even elements are:\", ' '.join(map(str, evens)))\n",
    "print(\"The Odd elements are:\", ' '.join(map(str, odds)))\n"
   ]
  },
  {
   "cell_type": "markdown",
   "id": "1243143b",
   "metadata": {},
   "source": [
    "Question 5\n",
    "\n",
    "a. Write a function inside(x,y,x1,y1,x2,y2) that returns True or Falsedepending on whether the point (x,y) lies in the rectangle with lower leftcorner (x1,y1) and upper right corner (x2,y2).\n"
   ]
  },
  {
   "cell_type": "code",
   "execution_count": 1,
   "id": "023481f9",
   "metadata": {},
   "outputs": [
    {
     "name": "stdout",
     "output_type": "stream",
     "text": [
      "True\n"
     ]
    }
   ],
   "source": [
    "def inside(x, y, x1, y1, x2, y2):\n",
    "    if x1 <= x <= x2 and y1 <= y <= y2:\n",
    "        return True\n",
    "    else:\n",
    "        return False\n",
    "\n",
    "print(inside(1, 1, 0, 0, 2, 2))\n",
    "\n"
   ]
  },
  {
   "cell_type": "markdown",
   "id": "4b63e7c9",
   "metadata": {},
   "source": [
    "5b.Use function inside() from part a. to write an expression that tests whetherthe point (1,1) lies in both of the following rectangles: one with lower leftcorner (0.3, 0.5) and upper right corner (1.1, 0.7) and the other with lowerleft corner (0.5, 0.2) and upper right corner (1.1, 2)."
   ]
  },
  {
   "cell_type": "code",
   "execution_count": 18,
   "id": "a4fa5132",
   "metadata": {},
   "outputs": [
    {
     "name": "stdout",
     "output_type": "stream",
     "text": [
      "False\n",
      "True\n"
     ]
    }
   ],
   "source": [
    "def inside(x, y, x1, y1, x2, y2):\n",
    "    if x1 <= x <= x2 and y1 <= y <= y2:\n",
    "        return True\n",
    "    else:\n",
    "        return False\n",
    "\n",
    "print(inside(1,1,0.3,0.5,1.1,0.7))\n",
    "print(inside(1,1,0.5,0.2,1.1,2.0))\n"
   ]
  },
  {
   "cell_type": "markdown",
   "id": "02a27666",
   "metadata": {},
   "source": [
    "Question 6\n",
    "\n",
    "You can turn a word into pig-Latin using the following two rules (simplified): • If the word starts with a consonant, move that letter to the end and append'ay'. For example, 'happy' becomes 'appyhay' and 'pencil' becomes 'encilpay'. • If the word starts with a vowel, simply append 'way' to the end of the word.For example, 'enter' becomes 'enterway' and 'other' becomes 'otherway' . Forour purposes, there are 5 vowels: a, e, i, o, u (so we count y as a consonant). Write a function pig() that takes a word (i.e., a string) as input and returns its pig-Latin form. Your function should still work if the input word contains upper casecharacters. Your output should always be lower case however."
   ]
  },
  {
   "cell_type": "code",
   "execution_count": 19,
   "id": "efe44982",
   "metadata": {},
   "outputs": [
    {
     "name": "stdout",
     "output_type": "stream",
     "text": [
      "appyhay\n",
      "encilpay\n",
      "enterway\n",
      "otherway\n"
     ]
    }
   ],
   "source": [
    "def pig(word):\n",
    "    word = word.lower()\n",
    "    vowels = 'aeiou'\n",
    "    \n",
    "    if word[0] in vowels:\n",
    "        return word + 'way'\n",
    "    else:\n",
    "        return word[1:] + word[0] + 'ay'\n",
    "\n",
    "# Test the function\n",
    "print(pig('happy'))     \n",
    "print(pig('Pencil'))     \n",
    "print(pig('Enter'))      \n",
    "print(pig('OTHER'))      \n"
   ]
  },
  {
   "cell_type": "markdown",
   "id": "cc8ae0a3",
   "metadata": {},
   "source": [
    "Question 7\n",
    "\n",
    "File bloodtype1.txt records blood-types of patients (A, B, AB, O or OO) at a clinic.Write a function bldcount() that reads the file with name name and reports (i.e.,prints) how many patients there are in each bloodtype."
   ]
  },
  {
   "cell_type": "code",
   "execution_count": 2,
   "id": "6ebc65e7",
   "metadata": {},
   "outputs": [
    {
     "name": "stdout",
     "output_type": "stream",
     "text": [
      "There are 15 patients of blood type A.\n",
      "There are 1 patients of blood type B.\n",
      "There are 13 patients of blood type AB.\n",
      "There are 15 patients of blood type O.\n",
      "There are 0 patients of blood type OO.\n"
     ]
    }
   ],
   "source": [
    "def bldcount(name):\n",
    "    with open(name, 'r') as file:\n",
    "        blood_types = file.read().split()\n",
    "        \n",
    "    blood_groups = ['A', 'B', 'AB', 'O', 'OO']\n",
    "    \n",
    "    for group in blood_groups:\n",
    "        count = blood_types.count(group)\n",
    "        print(f\"There are {count} patients of blood type {group}.\")\n",
    "\n",
    "# Test the function\n",
    "bldcount('bloodtype1.txt')\n"
   ]
  },
  {
   "cell_type": "markdown",
   "id": "ca1cfbba",
   "metadata": {},
   "source": [
    "Question 8\n",
    "\n",
    "Write a function curconv() that takes as input:\n",
    "\n",
    "a currency represented using a string (e.g., 'JPY' for the Japanese Yen or'EUR' for the Euro)\n",
    "an amount\n",
    "and then converts and returns the amount in US dollars.\n",
    "\n",
    "The currency rates you will need are stored in file currencies.txt: AUD 1.0345157 Australian Dollar CHF 1.0237414 Swiss Franc CNY 0.1550176 Chinese Yuan DKK 0.1651442 Danish Krone EUR 1.2296544 Euro GBP 1.5550989 British Pound HKD 0.1270207 Hong Kong Dollar INR 0.0177643 Indian Rupee JPY 0.01241401 Japanese Yen MXN 0.0751848 Mexican Peso MYR 0.3145411 Malaysian Ringgit NOK 0.1677063 Norwegian Krone NZD 0.8003591 New Zealand Dollar PHP 0.0233234 Philippine Peso SEK 0.148269 Swedish Krona SGD 0.788871 Singapore Dollar THB 0.0313789 Thai Baht"
   ]
  },
  {
   "cell_type": "code",
   "execution_count": 5,
   "id": "dc1db452",
   "metadata": {},
   "outputs": [
    {
     "name": "stdout",
     "output_type": "stream",
     "text": [
      "Enter Currency\n",
      "Enter Value\n",
      "62.070049999999995\n"
     ]
    }
   ],
   "source": [
    "def curcov(curr_input, val_input):\n",
    "    conversion_rates = {\n",
    "        'AUD': 1.0345157,\n",
    "        'CHF': 1.0237414,\n",
    "        'CNY': 0.1550176,\n",
    "        'DKK': 0.1651442,\n",
    "        'EUR': 1.2296544,\n",
    "        'GBP': 1.5550989,\n",
    "        'HKD': 0.1270207,\n",
    "        'INR': 0.0177643,\n",
    "        'JPY': 0.01241401,\n",
    "        'MXN': 0.0751848,\n",
    "        'MYR': 0.3145411,\n",
    "        'NOK': 0.1677063,\n",
    "        'NZD': 0.8003591,\n",
    "        'PHP': 0.0233234,\n",
    "        'SEK': 0.148269,\n",
    "        'SGD': 0.788871,\n",
    "        'THB': 0.0313789\n",
    "    }\n",
    "    \n",
    "    if curr_input in conversion_rates:\n",
    "        print(val_input * conversion_rates[curr_input])\n",
    "    else:\n",
    "        print(\"Currency not found.\")\n",
    "\n",
    "print(\"Enter Currency\")\n",
    "curr_input = input().upper()\n",
    "print(\"Enter Value\")\n",
    "val_input = float(input())\n",
    "curcov(curr_input, val_input)\n",
    "\n"
   ]
  },
  {
   "cell_type": "markdown",
   "id": "4fe8ee25",
   "metadata": {},
   "source": [
    "Question 9\n",
    "\n",
    "Each of the following will cause an exception (an error). Identify what type of exception each will cause\n",
    "\n",
    "1. Trying to add incompatible variables, as in adding 6 + ‘a’:\n",
    "   Exception: `TypeError`\n",
    "   This error is raised because you're trying to add an integer and a string, which are incompatible types.\n",
    "\n",
    "2. Referring to the 12th item of a list that has only 10 items:\n",
    "   Exception: `IndexError`\n",
    "    This error is raised when you try to access an index that is outside the range of the list.\n",
    "\n",
    "3. Using a value that is out of range for a function’s input, such as calling math.sqrt(-1.0):\n",
    "   Exception: `ValueError`\n",
    "    The `math.sqrt()` function doesn't handle negative numbers. \n",
    "\n",
    "4. Using an undeclared variable, such as print(x) when x has not been defined:\n",
    "   Exception: `NameError`\n",
    "    This error is raised when you try to reference a variable that hasn't been previously defined.\n",
    "\n",
    "5. Trying to open a file that does not exist, such as mistyping the file name or looking in the wrong directory:\n",
    "   Exception: `FileNotFoundError`\n",
    "    This error is raised when Python is unable to locate the file you're trying to open."
   ]
  },
  {
   "cell_type": "markdown",
   "id": "06d40f2c",
   "metadata": {},
   "source": [
    "Question 10\n",
    "\n",
    "Encryption is the process of hiding the meaning of a text by substituting letters in the message with other letters, according to some system. If the process is successful, no one but the intended recipient can understand the encrypted message. Cryptanalysis refers to attempts to undo the encryption, even if some details of the encryption are unknown (for example, if an encrypted message has been intercepted). The first step of cryptanalysis is often to build up a table of letter frequencies in the encrypted text. Assume that the string letters is already defined as 'abcdefghijklmnopqrstuvwxyz'. Write a function called frequencies() that takes a string as its only parameter, and returns a list of integers, showing the number of times each character appears in the text. Your function may ignore any characters that are not in letters."
   ]
  },
  {
   "cell_type": "code",
   "execution_count": 6,
   "id": "c4e21254",
   "metadata": {},
   "outputs": [
    {
     "name": "stdout",
     "output_type": "stream",
     "text": [
      "[0, 0, 0, 0, 1, 0, 0, 1, 0, 0, 0, 2, 0, 0, 1, 0, 0, 0, 0, 0, 0, 0, 0, 0, 0, 0]\n"
     ]
    }
   ],
   "source": [
    "def frequencies(s):\n",
    "    letters = 'abcdefghijklmnopqrstuvwxyz'\n",
    "    return [s.lower().count(letter) for letter in letters]\n",
    "\n",
    "# Test the function\n",
    "text = \"hello\"\n",
    "print(frequencies(text))\n"
   ]
  },
  {
   "cell_type": "code",
   "execution_count": 8,
   "id": "9d8d3473",
   "metadata": {},
   "outputs": [
    {
     "name": "stdout",
     "output_type": "stream",
     "text": [
      "[0, 0, 0, 0, 1, 0, 0, 0, 0, 1, 0, 0, 0, 0, 1, 0, 0, 0, 1, 0, 0, 0, 0, 0, 0, 0]\n"
     ]
    }
   ],
   "source": [
    "name = frequencies('jose')\n",
    "print(name)"
   ]
  },
  {
   "cell_type": "code",
   "execution_count": 9,
   "id": "00e038eb",
   "metadata": {},
   "outputs": [
    {
     "name": "stdout",
     "output_type": "stream",
     "text": [
      "[1, 1, 1, 3, 5, 1, 1, 2, 1, 0, 1, 0, 1, 2, 4, 0, 1, 2, 0, 3, 1, 0, 1, 1, 0, 0]\n"
     ]
    }
   ],
   "source": [
    "name1 = frequencies('The quick red fox got bored and went home.')\n",
    "print(name1)"
   ]
  },
  {
   "cell_type": "code",
   "execution_count": 10,
   "id": "7269ff67",
   "metadata": {},
   "outputs": [
    {
     "name": "stdout",
     "output_type": "stream",
     "text": [
      "[1, 0, 0, 0, 1, 0, 0, 0, 0, 0, 0, 1, 0, 0, 0, 2, 0, 0, 0, 0, 0, 0, 0, 0, 0, 0]\n"
     ]
    }
   ],
   "source": [
    "name2 = frequencies('apple')\n",
    "print(name2)"
   ]
  }
 ],
 "metadata": {
  "kernelspec": {
   "display_name": "Python 3",
   "language": "python",
   "name": "python3"
  },
  "language_info": {
   "codemirror_mode": {
    "name": "ipython",
    "version": 3
   },
   "file_extension": ".py",
   "mimetype": "text/x-python",
   "name": "python",
   "nbconvert_exporter": "python",
   "pygments_lexer": "ipython3",
   "version": "3.9.11"
  }
 },
 "nbformat": 4,
 "nbformat_minor": 5
}
